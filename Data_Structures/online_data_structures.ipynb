{
 "cells": [
  {
   "attachments": {},
   "cell_type": "markdown",
   "id": "22000556",
   "metadata": {},
   "source": [
    "# Introduction\n",
    "\n",
    "> **Underlying Literature**: The following module was inspired by the ideas put forward in Chapter 18 of [Advances in Financial Machine Learning](https://www.wiley.com/en-us/Advances+in+Financial+Machine+Learning-p-9781119482086) by Marcos Lopez de Prado\n",
    "\n",
    "The classes below use tick data to produce time, volume, dollar, imbalance and run bars in a live streaming way.\n",
    "New information can quickly be added to produce these bars on the go.\n",
    "The same functionality is offered here as explained in the Data Structures section in MlFinLab.\n",
    "\n",
    "The classes below create time, volume, dollar, imbalance and run bars with tick data that is used in batches and tick data used for live streaming.\n",
    "\n",
    "### Table of Contents\n",
    "- [Time Bars](#time)\n",
    "- [Volume Bars](#volume)\n",
    "- [Dollar Bars](#dollar)\n",
    "- [Imbalance Bars](#imbalance)\n",
    "- [Run Bars](#run)"
   ]
  },
  {
   "attachments": {},
   "cell_type": "markdown",
   "id": "e5114738",
   "metadata": {},
   "source": [
    "<div class=\"alert alert-block alert-warning\">\n",
    "    \n",
    "<b>Note:</b> The classes for streaming tick data return a dictionary whereas the classes for tick data used in batches return a pandas DataFrame.\n",
    "\n",
    "</div>"
   ]
  },
  {
   "attachments": {},
   "cell_type": "markdown",
   "id": "f151e5e2",
   "metadata": {},
   "source": [
    "Before starting, we must first import our data from the Sample Data Folder"
   ]
  },
  {
   "cell_type": "code",
   "execution_count": 1,
   "id": "0696233f",
   "metadata": {},
   "outputs": [
    {
     "name": "stdout",
     "output_type": "stream",
     "text": [
      "             Date and Time    Price  Volume\n",
      "0  2011/07/31 22:38:45.108  1205.00       1\n",
      "1  2011/07/31 22:38:45.934  1005.00       1\n",
      "2  2011/07/31 22:38:47.008  1304.75       6\n",
      "3  2011/07/31 22:38:48.944  1904.75       1\n",
      "4  2011/07/31 22:38:52.951  1304.75      20\n"
     ]
    }
   ],
   "source": [
    "# Import packages\n",
    "import pandas as pd\n",
    "\n",
    "# Import data \n",
    "data = pd.read_csv('https://raw.githubusercontent.com/hudson-and-thames/example-data/main/test_tick_data.csv')\n",
    "\n",
    "# Preview each tick data set\n",
    "print(data.head())"
   ]
  },
  {
   "attachments": {},
   "cell_type": "markdown",
   "id": "64abcbd7",
   "metadata": {},
   "source": [
    "Each generated bar from streaming stick data contains the following:"
   ]
  },
  {
   "attachments": {},
   "cell_type": "markdown",
   "id": "c5e6c5af",
   "metadata": {},
   "source": [
    "- timestamp            | the time stamp at which the bar ends                                \n",
    "- start timestamp      | the first tick timestamp of the bar as specified by the threshold        \n",
    "- open                 | the open price of the security at the start timestamp                      \n",
    "- high                 | the highest price of the security at the start timestamp             \n",
    "- low                  | the lowest price of the security at the start timestamp                 \n",
    "- close                | the close price of the security at the start timestamp               \n",
    "- volume               | the volume of the security at the start timestamp                      \n",
    "- cum_buy_volume       | cumulative buy volume of ticks in the bar                       \n",
    "- cum_dollar_value     | cumulative dollar value of ticks in the bar                         \n",
    "- tick_rule_buy_volume | amount of buy volume estimated by the Tick Rule                \n",
    "- num_ticks            | number of ticks in the bar              \n",
    "- ticker               | chosen ticker for the class "
   ]
  },
  {
   "attachments": {},
   "cell_type": "markdown",
   "id": "a1e75f75",
   "metadata": {},
   "source": [
    "## Time bars <a class=\"anchor\" id=\"time\"></a>"
   ]
  },
  {
   "attachments": {},
   "cell_type": "markdown",
   "id": "2cd7f97d",
   "metadata": {},
   "source": [
    "Time bars, are sampled after a fixed interval of time has passed."
   ]
  },
  {
   "attachments": {},
   "cell_type": "markdown",
   "id": "e29f9da7",
   "metadata": {},
   "source": [
    "### Tick data"
   ]
  },
  {
   "cell_type": "code",
   "execution_count": 2,
   "id": "625b3aca",
   "metadata": {},
   "outputs": [
    {
     "name": "stderr",
     "output_type": "stream",
     "text": [
      "/home/masimba/Desktop/mlfinlab_premium-1/mlfinlab/util/fast_ewma.py:17: NumbaDeprecationWarning: The keyword argument 'nopython=False' was supplied. From Numba 0.59.0 the default is being changed to True and use of 'nopython=False' will raise a warning as the argument will have no effect. See https://numba.readthedocs.io/en/stable/reference/deprecation.html#deprecation-of-object-mode-fall-back-behaviour-when-using-jit for details.\n",
      "  @jit((float64[:], int64), nopython=False, nogil=True)\n"
     ]
    },
    {
     "name": "stdout",
     "output_type": "stream",
     "text": [
      "New bar has been generated\n",
      "{'timestamp': Timestamp('2011-07-31 22:38:46'), 'start_timestamp': Timestamp('2011-07-31 22:38:45.108000040'), 'open': 1205.0, 'high': 1205.0, 'low': 1005.0, 'close': 1005.0, 'volume': 2, 'cum_buy_volume': 0, 'tick_rule_buy_volume': 0, 'cum_dollar_value': 2210.0, 'num_ticks': 2, 'ticker': 'S&P'}\n",
      "New bar has been generated\n",
      "{'timestamp': Timestamp('2011-07-31 22:38:48'), 'start_timestamp': Timestamp('2011-07-31 22:38:47.007999897'), 'open': 1304.75, 'high': 1304.75, 'low': 1304.75, 'close': 1304.75, 'volume': 6, 'cum_buy_volume': 6, 'tick_rule_buy_volume': 6, 'cum_dollar_value': 7828.5, 'num_ticks': 1, 'ticker': 'S&P'}\n",
      "New bar has been generated\n",
      "{'timestamp': Timestamp('2011-07-31 22:38:50'), 'start_timestamp': Timestamp('2011-07-31 22:38:48.944000006'), 'open': 1904.75, 'high': 1904.75, 'low': 1904.75, 'close': 1904.75, 'volume': 1, 'cum_buy_volume': 1, 'tick_rule_buy_volume': 1, 'cum_dollar_value': 1904.75, 'num_ticks': 1, 'ticker': 'S&P'}\n",
      "New bar has been generated\n",
      "{'timestamp': Timestamp('2011-07-31 22:38:54'), 'start_timestamp': Timestamp('2011-07-31 22:38:52.950999975'), 'open': 1304.75, 'high': 1304.75, 'low': 1304.75, 'close': 1304.75, 'volume': 21, 'cum_buy_volume': 0, 'tick_rule_buy_volume': 0, 'cum_dollar_value': 27399.75, 'num_ticks': 2, 'ticker': 'S&P'}\n",
      "New bar has been generated\n",
      "{'timestamp': Timestamp('2011-07-31 22:39:00'), 'start_timestamp': Timestamp('2011-07-31 22:38:52.950999975'), 'open': 1304.75, 'high': 1304.75, 'low': 1304.5, 'close': 1304.5, 'volume': 7, 'cum_buy_volume': 0, 'tick_rule_buy_volume': 0, 'cum_dollar_value': 9132.75, 'num_ticks': 3, 'ticker': 'S&P'}\n"
     ]
    }
   ],
   "source": [
    "# Import tools\n",
    "from mlfinlab.online_data_structures import time_bars\n",
    "\n",
    "# Generate time bars according to threshold\n",
    "# Threshold in seconds \n",
    "# Threshold can be changed according to a specified condition\n",
    "bars_time = time_bars.TimeBarGenerator(threshold=2,\n",
    "                                               tick_fields_mapping={'timestamp': 'Date and Time', 'price': 'Price',\n",
    "                                                                    'volume': 'Volume', 'ticker': 'ticker',\n",
    "                                                                    'aggressor_side': 'aggressor_side'})\n",
    "\n",
    "# Get the time bars from the ticks\n",
    "# Range specifies the number of incoming ticks to iterate through\n",
    "for i in range(10):\n",
    "    agg_side = bars_time.apply_tick_rule(data['Price'][i])[0]\n",
    "    new_bar = bars_time.process_tick(\n",
    "        {'Date and Time': pd.to_datetime(data['Date and Time'][i]), 'Price': data['Price'][i],\n",
    "         'Volume': data['Volume'][i], 'aggressor_side': agg_side, 'ticker': 'S&P'})\n",
    "    # If new_bar is True then a new bar is generated\n",
    "    if new_bar:\n",
    "        print('New bar has been generated')\n",
    "        print(bars_time.bars[-1])\n",
    "    # User specified condition to change the threshold\n",
    "    # For example when tick 25 is reached the threshold can be changed\n",
    "    if i == 5:\n",
    "        bars_time.set_threshold(10)\n",
    "        \n",
    "# Access all the generated bars\n",
    "generated_bars = bars_time.bars"
   ]
  },
  {
   "attachments": {},
   "cell_type": "markdown",
   "id": "cc3a70f8",
   "metadata": {},
   "source": [
    "### Batch data"
   ]
  },
  {
   "cell_type": "code",
   "execution_count": 3,
   "id": "baf1a861",
   "metadata": {},
   "outputs": [],
   "source": [
    "# Import tools\n",
    "from mlfinlab.data_structures import time_data_structures\n",
    "\n",
    "# Tick Bars\n",
    "time_bars = time_data_structures.get_time_bars('https://raw.githubusercontent.com/hudson-and-thames/example-data/main/test_tick_data.csv', resolution='D', verbose=False)"
   ]
  },
  {
   "attachments": {},
   "cell_type": "markdown",
   "id": "c6c7bc3a",
   "metadata": {},
   "source": [
    "## Volume bars<a class=\"anchor\" id=\"volume\"></a>"
   ]
  },
  {
   "attachments": {},
   "cell_type": "markdown",
   "id": "b2277671",
   "metadata": {},
   "source": [
    "Volume bars, are sampled after a fixed number of contracts (volume) has been traded."
   ]
  },
  {
   "attachments": {},
   "cell_type": "markdown",
   "id": "bd45d119",
   "metadata": {},
   "source": [
    "### Tick data"
   ]
  },
  {
   "cell_type": "code",
   "execution_count": 4,
   "id": "3e23bf43",
   "metadata": {},
   "outputs": [
    {
     "name": "stdout",
     "output_type": "stream",
     "text": [
      "New bar has been generated\n",
      "{'timestamp': Timestamp('2011-07-31 22:38:45.934000'), 'start_timestamp': Timestamp('2011-07-31 22:38:45.108000'), 'open': 1205.0, 'high': 1205.0, 'low': 1005.0, 'close': 1005.0, 'volume': 2, 'cum_buy_volume': 0, 'tick_rule_buy_volume': 0, 'cum_dollar_value': 2210.0, 'num_ticks': 2, 'ticker': 'S&P'}\n",
      "New bar has been generated\n",
      "{'timestamp': Timestamp('2011-07-31 22:38:47.008000'), 'start_timestamp': Timestamp('2011-07-31 22:38:47.008000'), 'open': 1304.75, 'high': 1304.75, 'low': 1304.75, 'close': 1304.75, 'volume': 6, 'cum_buy_volume': 6, 'tick_rule_buy_volume': 6, 'cum_dollar_value': 7828.5, 'num_ticks': 1, 'ticker': 'S&P'}\n",
      "New bar has been generated\n",
      "{'timestamp': Timestamp('2011-07-31 22:38:52.951000'), 'start_timestamp': Timestamp('2011-07-31 22:38:48.944000'), 'open': 1904.75, 'high': 1904.75, 'low': 1304.75, 'close': 1304.75, 'volume': 21, 'cum_buy_volume': 1, 'tick_rule_buy_volume': 1, 'cum_dollar_value': 27999.75, 'num_ticks': 2, 'ticker': 'S&P'}\n"
     ]
    }
   ],
   "source": [
    "# Import tools\n",
    "from mlfinlab.online_data_structures import volume_bars\n",
    "\n",
    "# Generate volume bars according to threshold\n",
    "# Threshold in seconds \n",
    "# Threshold can be changed acording to a specified condition\n",
    "bars_volume = volume_bars.VolumeBarGenerator(threshold=2,\n",
    "                                               tick_fields_mapping={'timestamp': 'Date and Time', 'price': 'Price',\n",
    "                                                                    'volume': 'Volume', 'ticker': 'ticker',\n",
    "                                                                    'aggressor_side': 'aggressor_side'})\n",
    "\n",
    "# Get the volume bars from the ticks\n",
    "# Range specifies the number of incoming ticks to iterate through\n",
    "for i in range(10):\n",
    "    agg_side = bars_volume.apply_tick_rule(data['Price'][i])[0]\n",
    "    new_bar = bars_volume.process_tick(\n",
    "        {'Date and Time': pd.to_datetime(data['Date and Time'][i]), 'Price': data['Price'][i],\n",
    "         'Volume': data['Volume'][i], 'aggressor_side': agg_side, 'ticker': 'S&P'})\n",
    "    # If new_bar is True then a new bar is generated\n",
    "    if new_bar:\n",
    "        print('New bar has been generated')\n",
    "        print(bars_volume.bars[-1])\n",
    "    # User specified condition to change the threshold\n",
    "    # For example when tick 25 is reached the threshold can be changed\n",
    "    if i == 5:\n",
    "        bars_volume.set_threshold(10)\n",
    "        \n",
    "# Access all the generated bars\n",
    "generated_bars = bars_volume.bars"
   ]
  },
  {
   "attachments": {},
   "cell_type": "markdown",
   "id": "76cbd51b",
   "metadata": {},
   "source": [
    "### Batch data"
   ]
  },
  {
   "cell_type": "code",
   "execution_count": 5,
   "id": "e88b456e",
   "metadata": {},
   "outputs": [],
   "source": [
    "# Import tools\n",
    "from mlfinlab.data_structures import standard_data_structures\n",
    "\n",
    "# Volume Bars\n",
    "volume = standard_data_structures.get_volume_bars('https://raw.githubusercontent.com/hudson-and-thames/example-data/main/test_tick_data.csv', threshold=28000,\n",
    "                                                  batch_size=1000000, verbose=False)\n"
   ]
  },
  {
   "attachments": {},
   "cell_type": "markdown",
   "id": "cdee7291",
   "metadata": {},
   "source": [
    "## Dollar bars<a class=\"anchor\" id=\"dollar\"></a>"
   ]
  },
  {
   "attachments": {},
   "cell_type": "markdown",
   "id": "cc239368",
   "metadata": {},
   "source": [
    "Dollar bars, are sampled after a fixed monetary amount has been traded."
   ]
  },
  {
   "attachments": {},
   "cell_type": "markdown",
   "id": "f6300d7d",
   "metadata": {},
   "source": [
    "### Tick data"
   ]
  },
  {
   "cell_type": "code",
   "execution_count": 6,
   "id": "8e9ba86b",
   "metadata": {},
   "outputs": [
    {
     "name": "stdout",
     "output_type": "stream",
     "text": [
      "New bar has been generated\n",
      "{'timestamp': Timestamp('2011-07-31 22:38:45.108000'), 'start_timestamp': Timestamp('2011-07-31 22:38:45.108000'), 'open': 1205.0, 'high': 1205.0, 'low': 1205.0, 'close': 1205.0, 'volume': 1, 'cum_buy_volume': 0, 'tick_rule_buy_volume': 0, 'cum_dollar_value': 1205.0, 'num_ticks': 1, 'ticker': 'S&P'}\n",
      "New bar has been generated\n",
      "{'timestamp': Timestamp('2011-07-31 22:38:45.934000'), 'start_timestamp': Timestamp('2011-07-31 22:38:45.934000'), 'open': 1005.0, 'high': 1005.0, 'low': 1005.0, 'close': 1005.0, 'volume': 1, 'cum_buy_volume': 0, 'tick_rule_buy_volume': 0, 'cum_dollar_value': 1005.0, 'num_ticks': 1, 'ticker': 'S&P'}\n",
      "New bar has been generated\n",
      "{'timestamp': Timestamp('2011-07-31 22:38:47.008000'), 'start_timestamp': Timestamp('2011-07-31 22:38:47.008000'), 'open': 1304.75, 'high': 1304.75, 'low': 1304.75, 'close': 1304.75, 'volume': 6, 'cum_buy_volume': 6, 'tick_rule_buy_volume': 6, 'cum_dollar_value': 7828.5, 'num_ticks': 1, 'ticker': 'S&P'}\n",
      "New bar has been generated\n",
      "{'timestamp': Timestamp('2011-07-31 22:38:48.944000'), 'start_timestamp': Timestamp('2011-07-31 22:38:48.944000'), 'open': 1904.75, 'high': 1904.75, 'low': 1904.75, 'close': 1904.75, 'volume': 1, 'cum_buy_volume': 1, 'tick_rule_buy_volume': 1, 'cum_dollar_value': 1904.75, 'num_ticks': 1, 'ticker': 'S&P'}\n",
      "New bar has been generated\n",
      "{'timestamp': Timestamp('2011-07-31 22:38:52.951000'), 'start_timestamp': Timestamp('2011-07-31 22:38:52.951000'), 'open': 1304.75, 'high': 1304.75, 'low': 1304.75, 'close': 1304.75, 'volume': 20, 'cum_buy_volume': 0, 'tick_rule_buy_volume': 0, 'cum_dollar_value': 26095.0, 'num_ticks': 1, 'ticker': 'S&P'}\n",
      "New bar has been generated\n",
      "{'timestamp': Timestamp('2011-07-31 22:38:52.951000'), 'start_timestamp': Timestamp('2011-07-31 22:38:52.951000'), 'open': 1304.75, 'high': 1304.75, 'low': 1304.75, 'close': 1304.75, 'volume': 1, 'cum_buy_volume': 0, 'tick_rule_buy_volume': 0, 'cum_dollar_value': 1304.75, 'num_ticks': 1, 'ticker': 'S&P'}\n",
      "New bar has been generated\n",
      "{'timestamp': Timestamp('2011-07-31 22:38:52.951000'), 'start_timestamp': Timestamp('2011-07-31 22:38:52.951000'), 'open': 1304.75, 'high': 1304.75, 'low': 1304.75, 'close': 1304.75, 'volume': 5, 'cum_buy_volume': 0, 'tick_rule_buy_volume': 0, 'cum_dollar_value': 6523.75, 'num_ticks': 1, 'ticker': 'S&P'}\n",
      "New bar has been generated\n",
      "{'timestamp': Timestamp('2011-07-31 22:38:56.589000'), 'start_timestamp': Timestamp('2011-07-31 22:38:56.589000'), 'open': 1304.5, 'high': 1304.5, 'low': 1304.5, 'close': 1304.5, 'volume': 1, 'cum_buy_volume': 0, 'tick_rule_buy_volume': 0, 'cum_dollar_value': 1304.5, 'num_ticks': 1, 'ticker': 'S&P'}\n",
      "New bar has been generated\n",
      "{'timestamp': Timestamp('2011-07-31 22:38:57.858000'), 'start_timestamp': Timestamp('2011-07-31 22:38:57.858000'), 'open': 1304.5, 'high': 1304.5, 'low': 1304.5, 'close': 1304.5, 'volume': 1, 'cum_buy_volume': 0, 'tick_rule_buy_volume': 0, 'cum_dollar_value': 1304.5, 'num_ticks': 1, 'ticker': 'S&P'}\n",
      "New bar has been generated\n",
      "{'timestamp': Timestamp('2011-07-31 22:39:08.695000'), 'start_timestamp': Timestamp('2011-07-31 22:39:08.695000'), 'open': 1304.5, 'high': 1304.5, 'low': 1304.5, 'close': 1304.5, 'volume': 1, 'cum_buy_volume': 0, 'tick_rule_buy_volume': 0, 'cum_dollar_value': 1304.5, 'num_ticks': 1, 'ticker': 'S&P'}\n"
     ]
    }
   ],
   "source": [
    "# Import tools\n",
    "from mlfinlab.online_data_structures import dollar_bars\n",
    "\n",
    "# Generate dollar bars according to threshold\n",
    "# Threshold in seconds \n",
    "# Threshold can be changed according to a specified condition\n",
    "bars_dollar = dollar_bars.DollarBarGenerator(threshold=2,\n",
    "                                               tick_fields_mapping={'timestamp': 'Date and Time', 'price': 'Price',\n",
    "                                                                    'volume': 'Volume', 'ticker': 'ticker',\n",
    "                                                                    'aggressor_side': 'aggressor_side'})\n",
    "\n",
    "# Get the dollar bars from the ticks\n",
    "# Range specifies the number of incoming ticks to iterate through\n",
    "for i in range(10):\n",
    "    agg_side = bars_dollar.apply_tick_rule(data['Price'][i])[0]\n",
    "    new_bar = bars_dollar.process_tick(\n",
    "        {'Date and Time': pd.to_datetime(data['Date and Time'][i]), 'Price': data['Price'][i],\n",
    "         'Volume': data['Volume'][i], 'aggressor_side': agg_side, 'ticker': 'S&P'})\n",
    "    # If new_bar is True then a new bar is generated\n",
    "    if new_bar:\n",
    "        print('New bar has been generated')\n",
    "        print(bars_dollar.bars[-1])\n",
    "    # User specified condition to change the threshold\n",
    "    # For example when tick 25 is reached the threshold can be changed\n",
    "    if i == 5:\n",
    "        bars_dollar.set_threshold(10)\n",
    "        \n",
    "# Access all the generated bars\n",
    "generated_bars = bars_dollar.bars"
   ]
  },
  {
   "attachments": {},
   "cell_type": "markdown",
   "id": "4cef5740",
   "metadata": {},
   "source": [
    "### Batch data"
   ]
  },
  {
   "cell_type": "code",
   "execution_count": 7,
   "id": "0a632829",
   "metadata": {},
   "outputs": [
    {
     "name": "stdout",
     "output_type": "stream",
     "text": [
      "Reading data in batches:\n",
      "Batch number: 0\n",
      "Returning bars \n",
      "\n"
     ]
    }
   ],
   "source": [
    "# Import tools\n",
    "from mlfinlab.data_structures import standard_data_structures\n",
    "\n",
    "# Dollar Bars\n",
    "dollar = standard_data_structures.get_dollar_bars('https://raw.githubusercontent.com/hudson-and-thames/example-data/main/test_tick_data.csv', threshold=70000000,\n",
    "                                                  batch_size=1000000, verbose=True)"
   ]
  },
  {
   "attachments": {},
   "cell_type": "markdown",
   "id": "6d1c914d",
   "metadata": {},
   "source": [
    "## Imbalance bars<a class=\"anchor\" id=\"imbalance\"></a>"
   ]
  },
  {
   "attachments": {},
   "cell_type": "markdown",
   "id": "06738816",
   "metadata": {},
   "source": [
    "Imbalance bars form part of information-driven bars.\n",
    "Information-driven bars are based on the notion of sampling a bar when new information arrives to the market.\n",
    "\n",
    "2 types of imbalance bars are implemented in MlFinLab:\n",
    "\n",
    "- Expected number of ticks, defined as EMA (book implementation)\n",
    "- Constant number of expected number of ticks.\n"
   ]
  },
  {
   "attachments": {},
   "cell_type": "markdown",
   "id": "0b93191f",
   "metadata": {},
   "source": [
    "EMA is used to calculate tick, dollar and volume imbalance bars for streaming tick data."
   ]
  },
  {
   "attachments": {},
   "cell_type": "markdown",
   "id": "46c4af4a",
   "metadata": {},
   "source": [
    "Both the EMA and constant method are used to calculate tick, dollar and volume imbalance bars for batch data."
   ]
  },
  {
   "attachments": {},
   "cell_type": "markdown",
   "id": "aefe9cc0",
   "metadata": {},
   "source": [
    "### Tick data"
   ]
  },
  {
   "cell_type": "code",
   "execution_count": 8,
   "id": "78cd74b9",
   "metadata": {},
   "outputs": [
    {
     "name": "stdout",
     "output_type": "stream",
     "text": [
      "New bar has been generated\n",
      "{'timestamp': Timestamp('2011-07-31 22:39:38.991000'), 'start_timestamp': Timestamp('2011-07-31 22:38:45.108000'), 'open': 1205.0, 'high': 1904.75, 'low': 1005.0, 'close': 1304.5, 'volume': 88, 'cum_buy_volume': 8, 'tick_rule_buy_volume': 8, 'cum_dollar_value': 115005.5, 'num_ticks': 30, 'ticker': 'S&P', 'imbalance': -91724.5}\n",
      "New bar has been generated\n",
      "{'timestamp': Timestamp('2011-07-31 22:39:59.606000'), 'start_timestamp': Timestamp('2011-07-31 22:39:40.423000'), 'open': 1304.5, 'high': 1304.5, 'low': 1304.5, 'close': 1304.5, 'volume': 33, 'cum_buy_volume': 0, 'tick_rule_buy_volume': 0, 'cum_dollar_value': 43048.5, 'num_ticks': 13, 'ticker': 'S&P', 'imbalance': -43048.5}\n"
     ]
    }
   ],
   "source": [
    "# Import tools\n",
    "from mlfinlab.online_data_structures import imbalance_bars\n",
    "\n",
    "# Generate dollar imbalance bars according to expected imbalance window and expected number of inital ticks per bar\n",
    "bars_imbalance_dollar = imbalance_bars.ImbalanceBarGenerator(imbalance_type='dollar_imbalance',\n",
    "                                                             expected_imbalance_window=3,\n",
    "                                                             exp_num_ticks_init=30,\n",
    "                                                             tick_fields_mapping={'timestamp': 'Date and Time',\n",
    "                                                                                'price': 'Price',\n",
    "                                                                                'volume': 'Volume', \n",
    "                                                                                'ticker': 'ticker',\n",
    "                                                                                'aggressor_side': 'aggressor_side'})\n",
    "# Get the imbalance dollar bars from the ticks\n",
    "# Range specifies the number of incoming ticks to iterate through\n",
    "for i in range(50):\n",
    "    agg_side = bars_imbalance_dollar.apply_tick_rule(data['Price'][i])[0]\n",
    "    new_bar = bars_imbalance_dollar.process_tick(\n",
    "        {'Date and Time': pd.to_datetime(data['Date and Time'][i]), 'Price': data['Price'][i],\n",
    "         'Volume': data['Volume'][i], 'aggressor_side': agg_side, 'ticker': 'S&P'})\n",
    "        # If new_bar is True then a new bar is generated\n",
    "    if new_bar:\n",
    "        print('New bar has been generated')\n",
    "        print(bars_imbalance_dollar.bars[-1])\n",
    "\n",
    "# Access the generated bars\n",
    "generated_bars = bars_imbalance_dollar.bars"
   ]
  },
  {
   "attachments": {},
   "cell_type": "markdown",
   "id": "8848a762",
   "metadata": {},
   "source": [
    "### Batch data"
   ]
  },
  {
   "cell_type": "code",
   "execution_count": 9,
   "id": "461f1756",
   "metadata": {},
   "outputs": [
    {
     "name": "stdout",
     "output_type": "stream",
     "text": [
      "Reading data in batches:\n",
      "Batch number: 0\n",
      "Returning bars \n",
      "\n",
      "Reading data in batches:\n",
      "Batch number: 0\n",
      "Returning bars \n",
      "\n"
     ]
    }
   ],
   "source": [
    "# Import tools\n",
    "from mlfinlab.data_structures.imbalance_data_structures import (get_ema_dollar_imbalance_bars,\n",
    "                                      get_const_dollar_imbalance_bars)\n",
    "\n",
    "# EMA Dollar Imbalance Bars\n",
    "dollar_imbalance_ema = get_ema_dollar_imbalance_bars('https://raw.githubusercontent.com/hudson-and-thames/example-data/main/test_tick_data.csv', num_prev_bars=3,\n",
    "                                                     exp_num_ticks_init=100000,\n",
    "                                                     exp_num_ticks_constraints=[100, 1000],\n",
    "                                                     expected_imbalance_window=10000)\n",
    "# Const Dollar Imbalance Bars\n",
    "dollar_imbalance_const = get_const_dollar_imbalance_bars('https://raw.githubusercontent.com/hudson-and-thames/example-data/main/test_tick_data.csv',\n",
    "                                                         exp_num_ticks_init=100000,\n",
    "                                                         expected_imbalance_window=10000)"
   ]
  },
  {
   "attachments": {},
   "cell_type": "markdown",
   "id": "5ce1bda4",
   "metadata": {},
   "source": [
    "## Run Bars <a class=\"anchor\" id=\"run\"></a>"
   ]
  },
  {
   "attachments": {},
   "cell_type": "markdown",
   "id": "1cf885c2",
   "metadata": {},
   "source": [
    "Run bars share the same mathematical structure as imbalance bars, however, instead of looking at each individual trade, we are looking at sequences of trades in the same direction.\n",
    "\n",
    "2 types of run bars are implemented in MlFinLab:\n",
    "\n",
    "- Expected number of ticks, defined as EWMA (book implementation)\n",
    "\n",
    "- Constant number of expected number of ticks."
   ]
  },
  {
   "attachments": {},
   "cell_type": "markdown",
   "id": "d92f560c",
   "metadata": {},
   "source": [
    "EMA is used to calculate tick, dollar and volume imbalance bars for streaming tick data."
   ]
  },
  {
   "attachments": {},
   "cell_type": "markdown",
   "id": "d969a6ad",
   "metadata": {},
   "source": [
    "Both the EMA and constant method are used to calculate tick, dollar and volume imbalance bars for batch data."
   ]
  },
  {
   "cell_type": "code",
   "execution_count": 10,
   "id": "c26eb09c",
   "metadata": {},
   "outputs": [
    {
     "name": "stdout",
     "output_type": "stream",
     "text": [
      "New bar has been generated\n",
      "{'timestamp': Timestamp('2011-07-31 22:39:38.991000'), 'start_timestamp': Timestamp('2011-07-31 22:38:45.108000'), 'open': 1205.0, 'high': 1904.75, 'low': 1005.0, 'close': 1304.5, 'volume': 88, 'cum_buy_volume': 8, 'tick_rule_buy_volume': 8, 'cum_dollar_value': 115005.5, 'num_ticks': 30, 'ticker': 'S&P'}\n",
      "New bar has been generated\n",
      "{'timestamp': Timestamp('2011-07-31 22:40:11.168000'), 'start_timestamp': Timestamp('2011-07-31 22:39:40.423000'), 'open': 1304.5, 'high': 1304.75, 'low': 1304.5, 'close': 1304.75, 'volume': 49, 'cum_buy_volume': 10, 'tick_rule_buy_volume': 10, 'cum_dollar_value': 63923.0, 'num_ticks': 18, 'ticker': 'S&P'}\n"
     ]
    }
   ],
   "source": [
    "# Import tools\n",
    "from mlfinlab.online_data_structures import runs_bars\n",
    "\n",
    "# Generate dollar runs bars according to expected imbalance window and expected number of inital ticks per bar\n",
    "# This example calculates dollar imbalance bars\n",
    "bars_run = runs_bars.RunsBarGenerator(runs_type='dollar_runs',\n",
    "                                      expected_imbalance_window=3,\n",
    "                                      exp_num_ticks_init=30,\n",
    "                                      tick_fields_mapping={'timestamp': 'Date and Time',\n",
    "                                                            'price': 'Price',\n",
    "                                                            'volume': 'Volume', \n",
    "                                                            'ticker': 'ticker',\n",
    "                                                            'aggressor_side': 'aggressor_side'})\n",
    "\n",
    "# Get the dollar runs bars from the ticks\n",
    "# Range specifies the number of incoming ticks to iterate through\n",
    "for i in range(50):\n",
    "    agg_side = bars_run.apply_tick_rule(data['Price'][i])[0]\n",
    "    new_bar = bars_run.process_tick(\n",
    "        {'Date and Time': pd.to_datetime(data['Date and Time'][i]), 'Price': data['Price'][i],\n",
    "         'Volume': data['Volume'][i], 'aggressor_side': agg_side, 'ticker': 'S&P'})\n",
    "        # If new_bar is True then a new bar is generated\n",
    "    if new_bar:\n",
    "        print('New bar has been generated')\n",
    "        print(bars_run.bars[-1])\n",
    "\n",
    "# Access the generated bars\n",
    "generated_bars = bars_run.bars"
   ]
  },
  {
   "attachments": {},
   "cell_type": "markdown",
   "id": "17f1ae3b",
   "metadata": {},
   "source": [
    "### Batch data"
   ]
  },
  {
   "cell_type": "code",
   "execution_count": 11,
   "id": "8e7d257d",
   "metadata": {},
   "outputs": [
    {
     "name": "stdout",
     "output_type": "stream",
     "text": [
      "Reading data in batches:\n"
     ]
    },
    {
     "name": "stdout",
     "output_type": "stream",
     "text": [
      "Batch number: 0\n",
      "Returning bars \n",
      "\n",
      "Reading data in batches:\n",
      "Batch number: 0\n",
      "Returning bars \n",
      "\n"
     ]
    }
   ],
   "source": [
    "# Import tools\n",
    "from mlfinlab.data_structures.run_data_structures import (get_ema_dollar_run_bars, get_const_dollar_run_bars)\n",
    "\n",
    "# EMA Run Bars\n",
    "dollar_imbalance_ema = get_ema_dollar_run_bars('https://raw.githubusercontent.com/hudson-and-thames/example-data/main/test_tick_data.csv', num_prev_bars=3,\n",
    "                                               exp_num_ticks_init=100000,\n",
    "                                               exp_num_ticks_constraints=[100, 1000],\n",
    "                                               expected_imbalance_window=10000)\n",
    "\n",
    "# Constant Run Bars\n",
    "dollar_imbalance_const = get_const_dollar_run_bars('https://raw.githubusercontent.com/hudson-and-thames/example-data/main/test_tick_data.csv', num_prev_bars=3,\n",
    "                                                   exp_num_ticks_init=100000,\n",
    "                                                   expected_imbalance_window=10000)"
   ]
  },
  {
   "attachments": {},
   "cell_type": "markdown",
   "id": "072310da",
   "metadata": {},
   "source": [
    "## Conclusion\n",
    "\n",
    "This notebook describes 2 different ways of using tick data in the MlFinLab package.\n",
    "\n",
    "Key takeaways from the notebook:\n",
    "\n",
    "* Time, volume, dollar, imbalance and run bars are created by streaming live tick data.\n",
    "\n",
    "* Time, volume, dollar, imbalance and run bars are created by using tick data in batches."
   ]
  },
  {
   "attachments": {},
   "cell_type": "markdown",
   "id": "041436cf",
   "metadata": {},
   "source": [
    "## Reference\n",
    "\n",
    "* Lopez de Prado, M. (2018) Advances in Financial Machine Learning. New York, NY: John Wiley & Sons."
   ]
  }
 ],
 "metadata": {
  "kernelspec": {
   "display_name": "Python 3 (ipykernel)",
   "language": "python",
   "name": "python3"
  },
  "language_info": {
   "codemirror_mode": {
    "name": "ipython",
    "version": 3
   },
   "file_extension": ".py",
   "mimetype": "text/x-python",
   "name": "python",
   "nbconvert_exporter": "python",
   "pygments_lexer": "ipython3",
   "version": "3.8.16"
  }
 },
 "nbformat": 4,
 "nbformat_minor": 5
}
